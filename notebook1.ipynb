{
 "cells": [
  {
   "metadata": {},
   "cell_type": "code",
   "outputs": [],
   "execution_count": null,
   "source": "",
   "id": "3b8312b4f86e01bb"
  }
 ],
 "metadata": {},
 "nbformat": 4,
 "nbformat_minor": 5
}
